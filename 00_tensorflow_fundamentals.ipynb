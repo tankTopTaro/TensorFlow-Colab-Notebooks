{
  "nbformat": 4,
  "nbformat_minor": 0,
  "metadata": {
    "colab": {
      "provenance": [],
      "gpuType": "T4",
      "authorship_tag": "ABX9TyPTu2orjPbc+w4wG0pOMR4z",
      "include_colab_link": true
    },
    "kernelspec": {
      "name": "python3",
      "display_name": "Python 3"
    },
    "language_info": {
      "name": "python"
    },
    "accelerator": "GPU"
  },
  "cells": [
    {
      "cell_type": "markdown",
      "metadata": {
        "id": "view-in-github",
        "colab_type": "text"
      },
      "source": [
        "<a href=\"https://colab.research.google.com/github/tankTopTaro/TensorFlow-Colab-Notebooks/blob/main/00_tensorflow_fundamentals.ipynb\" target=\"_parent\"><img src=\"https://colab.research.google.com/assets/colab-badge.svg\" alt=\"Open In Colab\"/></a>"
      ]
    },
    {
      "cell_type": "markdown",
      "source": [
        "# Introduction to Tensors"
      ],
      "metadata": {
        "id": "L67e_QcuIoiF"
      }
    },
    {
      "cell_type": "code",
      "execution_count": 2,
      "metadata": {
        "colab": {
          "base_uri": "https://localhost:8080/"
        },
        "id": "T4Qr1zPCIdfr",
        "outputId": "c72e5391-f87a-4b28-9268-8dc1d599c04f"
      },
      "outputs": [
        {
          "output_type": "stream",
          "name": "stdout",
          "text": [
            "2.17.0\n"
          ]
        }
      ],
      "source": [
        "# Import TensorFlow\n",
        "import tensorflow as tf\n",
        "\n",
        "print(tf.__version__)"
      ]
    },
    {
      "cell_type": "code",
      "source": [
        "# Create tensors with tf.constant()\n",
        "scalar = tf.constant(7)\n",
        "scalar"
      ],
      "metadata": {
        "colab": {
          "base_uri": "https://localhost:8080/"
        },
        "id": "iFhpE4CyJZ1r",
        "outputId": "3c584540-0a76-407a-ae6d-f9211a88e20e"
      },
      "execution_count": 3,
      "outputs": [
        {
          "output_type": "execute_result",
          "data": {
            "text/plain": [
              "<tf.Tensor: shape=(), dtype=int32, numpy=7>"
            ]
          },
          "metadata": {},
          "execution_count": 3
        }
      ]
    },
    {
      "cell_type": "code",
      "source": [
        "# Check the number of dimensions of a tensor\n",
        "scalar.ndim"
      ],
      "metadata": {
        "colab": {
          "base_uri": "https://localhost:8080/"
        },
        "id": "TZIy6kqgJqcE",
        "outputId": "1c898d82-be1c-4027-a71f-1f993f62dba0"
      },
      "execution_count": 4,
      "outputs": [
        {
          "output_type": "execute_result",
          "data": {
            "text/plain": [
              "0"
            ]
          },
          "metadata": {},
          "execution_count": 4
        }
      ]
    },
    {
      "cell_type": "code",
      "source": [
        "# Create a vector\n",
        "vector = tf.constant([10, 10])\n",
        "vector"
      ],
      "metadata": {
        "colab": {
          "base_uri": "https://localhost:8080/"
        },
        "id": "soP6hHGWKHUE",
        "outputId": "77dc8246-03d4-4054-ea44-09f087673b1e"
      },
      "execution_count": 5,
      "outputs": [
        {
          "output_type": "execute_result",
          "data": {
            "text/plain": [
              "<tf.Tensor: shape=(2,), dtype=int32, numpy=array([10, 10], dtype=int32)>"
            ]
          },
          "metadata": {},
          "execution_count": 5
        }
      ]
    },
    {
      "cell_type": "code",
      "source": [
        "vector.ndim"
      ],
      "metadata": {
        "colab": {
          "base_uri": "https://localhost:8080/"
        },
        "id": "8wEcAAEpKSkt",
        "outputId": "3ca80976-0fce-42a3-c40b-4c33f6e60964"
      },
      "execution_count": 6,
      "outputs": [
        {
          "output_type": "execute_result",
          "data": {
            "text/plain": [
              "1"
            ]
          },
          "metadata": {},
          "execution_count": 6
        }
      ]
    },
    {
      "cell_type": "code",
      "source": [
        "# Create a matrix\n",
        "matrix = tf.constant([[10, 7], [7, 10]])\n",
        "matrix"
      ],
      "metadata": {
        "colab": {
          "base_uri": "https://localhost:8080/"
        },
        "id": "WCQqxGzeKZa6",
        "outputId": "935ee75e-bf57-42b4-b780-d24c6fc8d8ec"
      },
      "execution_count": 7,
      "outputs": [
        {
          "output_type": "execute_result",
          "data": {
            "text/plain": [
              "<tf.Tensor: shape=(2, 2), dtype=int32, numpy=\n",
              "array([[10,  7],\n",
              "       [ 7, 10]], dtype=int32)>"
            ]
          },
          "metadata": {},
          "execution_count": 7
        }
      ]
    },
    {
      "cell_type": "code",
      "source": [
        "matrix.ndim"
      ],
      "metadata": {
        "colab": {
          "base_uri": "https://localhost:8080/"
        },
        "id": "GR2fTaOjKodO",
        "outputId": "201ac3be-dde4-44f8-8756-8131277d52a9"
      },
      "execution_count": 8,
      "outputs": [
        {
          "output_type": "execute_result",
          "data": {
            "text/plain": [
              "2"
            ]
          },
          "metadata": {},
          "execution_count": 8
        }
      ]
    },
    {
      "cell_type": "code",
      "source": [
        "another_matrix = tf.constant([[10.,7.], [3., 2.], [8., 9.]], dtype=tf.float16)  # specify the data type\n",
        "another_matrix"
      ],
      "metadata": {
        "colab": {
          "base_uri": "https://localhost:8080/"
        },
        "id": "IRjelgFBLB7v",
        "outputId": "38076e07-abdc-4b0d-c5ea-71add9575301"
      },
      "execution_count": 9,
      "outputs": [
        {
          "output_type": "execute_result",
          "data": {
            "text/plain": [
              "<tf.Tensor: shape=(3, 2), dtype=float16, numpy=\n",
              "array([[10.,  7.],\n",
              "       [ 3.,  2.],\n",
              "       [ 8.,  9.]], dtype=float16)>"
            ]
          },
          "metadata": {},
          "execution_count": 9
        }
      ]
    },
    {
      "cell_type": "code",
      "source": [
        "another_matrix.ndim"
      ],
      "metadata": {
        "colab": {
          "base_uri": "https://localhost:8080/"
        },
        "id": "FPz0jrP3Leie",
        "outputId": "958812c9-c7a2-46c4-d2b7-1cce02ec903b"
      },
      "execution_count": 10,
      "outputs": [
        {
          "output_type": "execute_result",
          "data": {
            "text/plain": [
              "2"
            ]
          },
          "metadata": {},
          "execution_count": 10
        }
      ]
    },
    {
      "cell_type": "code",
      "source": [
        "# Create a tensor\n",
        "tensor = tf.constant([[[1, 2, 3],\n",
        "                       [4, 5, 6]],\n",
        "                      [[7, 8, 9],\n",
        "                       [10, 11, 12]],\n",
        "                      [[13, 14, 15],\n",
        "                       [16, 17, 18]]])\n",
        "\n",
        "tensor"
      ],
      "metadata": {
        "colab": {
          "base_uri": "https://localhost:8080/"
        },
        "id": "OW6Vj1WMMAVI",
        "outputId": "f1269f1e-fc6f-4c52-911e-e04cfb5cd4d6"
      },
      "execution_count": 11,
      "outputs": [
        {
          "output_type": "execute_result",
          "data": {
            "text/plain": [
              "<tf.Tensor: shape=(3, 2, 3), dtype=int32, numpy=\n",
              "array([[[ 1,  2,  3],\n",
              "        [ 4,  5,  6]],\n",
              "\n",
              "       [[ 7,  8,  9],\n",
              "        [10, 11, 12]],\n",
              "\n",
              "       [[13, 14, 15],\n",
              "        [16, 17, 18]]], dtype=int32)>"
            ]
          },
          "metadata": {},
          "execution_count": 11
        }
      ]
    },
    {
      "cell_type": "code",
      "source": [
        "tensor.ndim"
      ],
      "metadata": {
        "colab": {
          "base_uri": "https://localhost:8080/"
        },
        "id": "ZqNskHKtMnte",
        "outputId": "390968ad-18c3-4622-d0b3-25f77d1d3e4f"
      },
      "execution_count": 12,
      "outputs": [
        {
          "output_type": "execute_result",
          "data": {
            "text/plain": [
              "3"
            ]
          },
          "metadata": {},
          "execution_count": 12
        }
      ]
    },
    {
      "cell_type": "markdown",
      "source": [
        "### Creating tensors with tf.Variable"
      ],
      "metadata": {
        "id": "dfguWquKOGWh"
      }
    },
    {
      "cell_type": "code",
      "source": [
        "changeable_tensor = tf.Variable([10, 7])\n",
        "unchangeable_tensor = tf.constant([10, 7])\n",
        "changeable_tensor, unchangeable_tensor"
      ],
      "metadata": {
        "colab": {
          "base_uri": "https://localhost:8080/"
        },
        "id": "yIA3sd6ROLOa",
        "outputId": "763b4cbb-3de8-4e2d-8474-9da09bea23e1"
      },
      "execution_count": 13,
      "outputs": [
        {
          "output_type": "execute_result",
          "data": {
            "text/plain": [
              "(<tf.Variable 'Variable:0' shape=(2,) dtype=int32, numpy=array([10,  7], dtype=int32)>,\n",
              " <tf.Tensor: shape=(2,), dtype=int32, numpy=array([10,  7], dtype=int32)>)"
            ]
          },
          "metadata": {},
          "execution_count": 13
        }
      ]
    },
    {
      "cell_type": "code",
      "source": [
        "changeable_tensor[0] = 7\n",
        "changeable_tensor"
      ],
      "metadata": {
        "colab": {
          "base_uri": "https://localhost:8080/",
          "height": 159
        },
        "id": "pXFkkvMIPRGX",
        "outputId": "b449b772-38b0-44fd-d8a1-7e999caafec4"
      },
      "execution_count": 14,
      "outputs": [
        {
          "output_type": "error",
          "ename": "TypeError",
          "evalue": "'ResourceVariable' object does not support item assignment",
          "traceback": [
            "\u001b[0;31m---------------------------------------------------------------------------\u001b[0m",
            "\u001b[0;31mTypeError\u001b[0m                                 Traceback (most recent call last)",
            "\u001b[0;32m<ipython-input-14-05d0bdd98eb4>\u001b[0m in \u001b[0;36m<cell line: 1>\u001b[0;34m()\u001b[0m\n\u001b[0;32m----> 1\u001b[0;31m \u001b[0mchangeable_tensor\u001b[0m\u001b[0;34m[\u001b[0m\u001b[0;36m0\u001b[0m\u001b[0;34m]\u001b[0m \u001b[0;34m=\u001b[0m \u001b[0;36m7\u001b[0m\u001b[0;34m\u001b[0m\u001b[0;34m\u001b[0m\u001b[0m\n\u001b[0m\u001b[1;32m      2\u001b[0m \u001b[0mchangeable_tensor\u001b[0m\u001b[0;34m\u001b[0m\u001b[0;34m\u001b[0m\u001b[0m\n",
            "\u001b[0;31mTypeError\u001b[0m: 'ResourceVariable' object does not support item assignment"
          ]
        }
      ]
    },
    {
      "cell_type": "code",
      "source": [
        "changeable_tensor[0].assign(7)\n",
        "changeable_tensor"
      ],
      "metadata": {
        "colab": {
          "base_uri": "https://localhost:8080/"
        },
        "id": "ovRwhVp-PfJS",
        "outputId": "b5d7da3d-32ac-4957-8886-fa6a211c1856"
      },
      "execution_count": 15,
      "outputs": [
        {
          "output_type": "execute_result",
          "data": {
            "text/plain": [
              "<tf.Variable 'Variable:0' shape=(2,) dtype=int32, numpy=array([7, 7], dtype=int32)>"
            ]
          },
          "metadata": {},
          "execution_count": 15
        }
      ]
    },
    {
      "cell_type": "code",
      "source": [
        "unchangeable_tensor[0].assign(7)\n",
        "unchangeable_tensor"
      ],
      "metadata": {
        "colab": {
          "base_uri": "https://localhost:8080/",
          "height": 280
        },
        "id": "NLjgllRvPmJ0",
        "outputId": "06d2fd00-87b9-406e-f1bf-6ba236eb716a"
      },
      "execution_count": 16,
      "outputs": [
        {
          "output_type": "error",
          "ename": "AttributeError",
          "evalue": "'tensorflow.python.framework.ops.EagerTensor' object has no attribute 'assign'",
          "traceback": [
            "\u001b[0;31m---------------------------------------------------------------------------\u001b[0m",
            "\u001b[0;31mAttributeError\u001b[0m                            Traceback (most recent call last)",
            "\u001b[0;32m<ipython-input-16-958e786d8d1f>\u001b[0m in \u001b[0;36m<cell line: 1>\u001b[0;34m()\u001b[0m\n\u001b[0;32m----> 1\u001b[0;31m \u001b[0munchangeable_tensor\u001b[0m\u001b[0;34m[\u001b[0m\u001b[0;36m0\u001b[0m\u001b[0;34m]\u001b[0m\u001b[0;34m.\u001b[0m\u001b[0massign\u001b[0m\u001b[0;34m(\u001b[0m\u001b[0;36m7\u001b[0m\u001b[0;34m)\u001b[0m\u001b[0;34m\u001b[0m\u001b[0;34m\u001b[0m\u001b[0m\n\u001b[0m\u001b[1;32m      2\u001b[0m \u001b[0munchangeable_tensor\u001b[0m\u001b[0;34m\u001b[0m\u001b[0;34m\u001b[0m\u001b[0m\n",
            "\u001b[0;32m/usr/local/lib/python3.10/dist-packages/tensorflow/python/framework/tensor.py\u001b[0m in \u001b[0;36m__getattr__\u001b[0;34m(self, name)\u001b[0m\n\u001b[1;32m    258\u001b[0m         \u001b[0mtf\u001b[0m\u001b[0;34m.\u001b[0m\u001b[0mexperimental\u001b[0m\u001b[0;34m.\u001b[0m\u001b[0mnumpy\u001b[0m\u001b[0;34m.\u001b[0m\u001b[0mexperimental_enable_numpy_behavior\u001b[0m\u001b[0;34m(\u001b[0m\u001b[0;34m)\u001b[0m\u001b[0;34m\u001b[0m\u001b[0;34m\u001b[0m\u001b[0m\n\u001b[1;32m    259\u001b[0m       \"\"\")\n\u001b[0;32m--> 260\u001b[0;31m     \u001b[0mself\u001b[0m\u001b[0;34m.\u001b[0m\u001b[0m__getattribute__\u001b[0m\u001b[0;34m(\u001b[0m\u001b[0mname\u001b[0m\u001b[0;34m)\u001b[0m\u001b[0;34m\u001b[0m\u001b[0;34m\u001b[0m\u001b[0m\n\u001b[0m\u001b[1;32m    261\u001b[0m \u001b[0;34m\u001b[0m\u001b[0m\n\u001b[1;32m    262\u001b[0m   \u001b[0;34m@\u001b[0m\u001b[0mproperty\u001b[0m\u001b[0;34m\u001b[0m\u001b[0;34m\u001b[0m\u001b[0m\n",
            "\u001b[0;31mAttributeError\u001b[0m: 'tensorflow.python.framework.ops.EagerTensor' object has no attribute 'assign'"
          ]
        }
      ]
    },
    {
      "cell_type": "markdown",
      "source": [
        "### Creating random tensors"
      ],
      "metadata": {
        "id": "AXvVTxOuQJKR"
      }
    },
    {
      "cell_type": "code",
      "source": [
        "random_1 = tf.random.Generator.from_seed(42)\n",
        "random_1 = random_1.normal(shape=(3, 2))\n",
        "random_2 = tf.random.Generator.from_seed(42)\n",
        "random_2 = random_2.normal(shape=(3, 2))\n",
        "\n",
        "random_1, random_2, random_1 == random_2"
      ],
      "metadata": {
        "colab": {
          "base_uri": "https://localhost:8080/"
        },
        "id": "_75W0D8HQOLz",
        "outputId": "367a2d34-611a-4400-c7e1-5342a4359439"
      },
      "execution_count": 17,
      "outputs": [
        {
          "output_type": "execute_result",
          "data": {
            "text/plain": [
              "(<tf.Tensor: shape=(3, 2), dtype=float32, numpy=\n",
              " array([[-0.7565803 , -0.06854702],\n",
              "        [ 0.07595026, -1.2573844 ],\n",
              "        [-0.23193763, -1.8107855 ]], dtype=float32)>,\n",
              " <tf.Tensor: shape=(3, 2), dtype=float32, numpy=\n",
              " array([[-0.7565803 , -0.06854702],\n",
              "        [ 0.07595026, -1.2573844 ],\n",
              "        [-0.23193763, -1.8107855 ]], dtype=float32)>,\n",
              " <tf.Tensor: shape=(3, 2), dtype=bool, numpy=\n",
              " array([[ True,  True],\n",
              "        [ True,  True],\n",
              "        [ True,  True]])>)"
            ]
          },
          "metadata": {},
          "execution_count": 17
        }
      ]
    },
    {
      "cell_type": "markdown",
      "source": [
        "### Shuffle the order of elements in a tensor"
      ],
      "metadata": {
        "id": "nAk76Zx3TaZa"
      }
    },
    {
      "cell_type": "code",
      "source": [
        "not_shuffled = tf.constant([[10, 7],\n",
        "                            [3, 4],\n",
        "                            [2, 5]])\n",
        "\n",
        "not_shuffled.ndim, not_shuffled"
      ],
      "metadata": {
        "colab": {
          "base_uri": "https://localhost:8080/"
        },
        "id": "sL_m5E61RcVf",
        "outputId": "c9d382ff-3133-4ff8-f264-fea1bf59454f"
      },
      "execution_count": 18,
      "outputs": [
        {
          "output_type": "execute_result",
          "data": {
            "text/plain": [
              "(2,\n",
              " <tf.Tensor: shape=(3, 2), dtype=int32, numpy=\n",
              " array([[10,  7],\n",
              "        [ 3,  4],\n",
              "        [ 2,  5]], dtype=int32)>)"
            ]
          },
          "metadata": {},
          "execution_count": 18
        }
      ]
    },
    {
      "cell_type": "code",
      "source": [
        "tf.random.shuffle(not_shuffled)"
      ],
      "metadata": {
        "colab": {
          "base_uri": "https://localhost:8080/"
        },
        "id": "3cF_q2bIT82I",
        "outputId": "12d7a85d-922e-4993-bef3-f57162a6cad2"
      },
      "execution_count": 19,
      "outputs": [
        {
          "output_type": "execute_result",
          "data": {
            "text/plain": [
              "<tf.Tensor: shape=(3, 2), dtype=int32, numpy=\n",
              "array([[ 3,  4],\n",
              "       [ 2,  5],\n",
              "       [10,  7]], dtype=int32)>"
            ]
          },
          "metadata": {},
          "execution_count": 19
        }
      ]
    },
    {
      "cell_type": "code",
      "source": [
        "tf.random.shuffle(not_shuffled, seed=42)"
      ],
      "metadata": {
        "colab": {
          "base_uri": "https://localhost:8080/"
        },
        "id": "PJROPql6UvY_",
        "outputId": "0b3b1094-3d90-4218-b784-761005c8d892"
      },
      "execution_count": 20,
      "outputs": [
        {
          "output_type": "execute_result",
          "data": {
            "text/plain": [
              "<tf.Tensor: shape=(3, 2), dtype=int32, numpy=\n",
              "array([[ 2,  5],\n",
              "       [ 3,  4],\n",
              "       [10,  7]], dtype=int32)>"
            ]
          },
          "metadata": {},
          "execution_count": 20
        }
      ]
    },
    {
      "cell_type": "markdown",
      "source": [
        "### Exercise Generate 5 random tensors\n",
        "\n",
        "[tf.random.set_seed](https://www.tensorflow.org/api_docs/python/tf/random/set_seed)"
      ],
      "metadata": {
        "id": "sov-qPeZVZwJ"
      }
    },
    {
      "cell_type": "code",
      "source": [
        "rand_1 = tf.random.Generator.from_seed(42, alg=\"threefry\")\n",
        "rand_2 = tf.random.Generator.from_seed(5).normal(shape=(10, 7))\n",
        "rand_3 = tf.random.Generator.from_seed(100).normal(shape=(3, 2))\n",
        "rand_4 = tf.random.Generator.from_seed(1234).normal(shape=(2, 3))\n",
        "rand_5 = tf.random.Generator.from_seed(123, alg=\"philox\")\n",
        "\n",
        "print(\"Rand_1\", rand_1, \"\\nRand_2\", rand_2,\n",
        "      \"\\nRand_3\", rand_3, \"\\nRand_4\", rand_4,\n",
        "      \"\\nRand_5\", rand_5)"
      ],
      "metadata": {
        "colab": {
          "base_uri": "https://localhost:8080/"
        },
        "id": "hVBNbyYoVgf9",
        "outputId": "e93133b1-1232-41f7-b70c-ed039e0077e4"
      },
      "execution_count": 21,
      "outputs": [
        {
          "output_type": "stream",
          "name": "stdout",
          "text": [
            "Rand_1 <tensorflow.python.ops.stateful_random_ops.Generator object at 0x7cf272b9ebf0> \n",
            "Rand_2 tf.Tensor(\n",
            "[[ 1.0278524   0.27974114 -0.01347923  1.845181    0.97061104 -1.0242516\n",
            "  -0.6544423 ]\n",
            " [-0.29738766 -1.3240396   0.28785667 -0.8757901  -0.08857018  0.69211644\n",
            "   0.84215707]\n",
            " [-0.06378496  0.92800784 -0.6039789  -0.1766927   0.04221033  0.29037967\n",
            "  -0.29604465]\n",
            " [-0.21134205  0.01063002  1.5165398   0.27305737 -0.29925638 -0.3652325\n",
            "   0.61883307]\n",
            " [-1.0130816   0.28291714  1.2132233   0.46988967  0.37944323 -0.6664026\n",
            "   0.6054596 ]\n",
            " [ 0.19181173  0.8045827   0.4769051  -0.7812124  -0.996891    0.33149973\n",
            "  -0.5445254 ]\n",
            " [ 1.5222508   0.59303206 -0.63509274  0.3703566  -1.0939722  -0.4601445\n",
            "   1.5420506 ]\n",
            " [-0.16822556 -0.4390865  -0.4129243   0.35877243 -1.9095894  -0.2094769\n",
            "   0.8286217 ]\n",
            " [-0.06695071 -0.35105535  1.0884082  -1.3863064   0.88051325 -1.6833194\n",
            "   0.86754173]\n",
            " [-0.19625713 -1.322665   -0.02279496 -0.1383193   0.44207528 -0.7531523\n",
            "   2.0261486 ]], shape=(10, 7), dtype=float32) \n",
            "Rand_3 tf.Tensor(\n",
            "[[-0.90112925 -0.0175216 ]\n",
            " [-0.4188493   0.29532313]\n",
            " [ 0.08036723 -1.7199678 ]], shape=(3, 2), dtype=float32) \n",
            "Rand_4 tf.Tensor(\n",
            "[[ 0.9356609   1.0854305  -0.93788373]\n",
            " [-0.5061547   1.3169702   0.7137579 ]], shape=(2, 3), dtype=float32) \n",
            "Rand_5 <tensorflow.python.ops.stateful_random_ops.Generator object at 0x7cf2700cd300>\n"
          ]
        }
      ]
    },
    {
      "cell_type": "code",
      "source": [
        "tf.random.shuffle(rand_3)"
      ],
      "metadata": {
        "colab": {
          "base_uri": "https://localhost:8080/"
        },
        "id": "XLTrnfBlYmza",
        "outputId": "a4b2ec9a-249c-466e-96a4-18e407d96bb4"
      },
      "execution_count": 22,
      "outputs": [
        {
          "output_type": "execute_result",
          "data": {
            "text/plain": [
              "<tf.Tensor: shape=(3, 2), dtype=float32, numpy=\n",
              "array([[ 0.08036723, -1.7199678 ],\n",
              "       [-0.90112925, -0.0175216 ],\n",
              "       [-0.4188493 ,  0.29532313]], dtype=float32)>"
            ]
          },
          "metadata": {},
          "execution_count": 22
        }
      ]
    },
    {
      "cell_type": "code",
      "source": [
        "tf.random.shuffle(rand_4, seed=42)"
      ],
      "metadata": {
        "colab": {
          "base_uri": "https://localhost:8080/"
        },
        "id": "pZrNYLkgZN-H",
        "outputId": "a3a7fcaf-ba47-41e8-825f-d323a1eb6d23"
      },
      "execution_count": 23,
      "outputs": [
        {
          "output_type": "execute_result",
          "data": {
            "text/plain": [
              "<tf.Tensor: shape=(2, 3), dtype=float32, numpy=\n",
              "array([[ 0.9356609 ,  1.0854305 , -0.93788373],\n",
              "       [-0.5061547 ,  1.3169702 ,  0.7137579 ]], dtype=float32)>"
            ]
          },
          "metadata": {},
          "execution_count": 23
        }
      ]
    },
    {
      "cell_type": "markdown",
      "source": [
        "### Other ways to create tensors"
      ],
      "metadata": {
        "id": "KPZNrYDkUXox"
      }
    },
    {
      "cell_type": "code",
      "source": [
        "# Create a tensor of all ones\n",
        "tf.ones([10, 7])"
      ],
      "metadata": {
        "colab": {
          "base_uri": "https://localhost:8080/"
        },
        "id": "R2WC5Lf5UdyL",
        "outputId": "8735bbdb-fd82-4e81-a45c-4d1ec0d6c630"
      },
      "execution_count": 24,
      "outputs": [
        {
          "output_type": "execute_result",
          "data": {
            "text/plain": [
              "<tf.Tensor: shape=(10, 7), dtype=float32, numpy=\n",
              "array([[1., 1., 1., 1., 1., 1., 1.],\n",
              "       [1., 1., 1., 1., 1., 1., 1.],\n",
              "       [1., 1., 1., 1., 1., 1., 1.],\n",
              "       [1., 1., 1., 1., 1., 1., 1.],\n",
              "       [1., 1., 1., 1., 1., 1., 1.],\n",
              "       [1., 1., 1., 1., 1., 1., 1.],\n",
              "       [1., 1., 1., 1., 1., 1., 1.],\n",
              "       [1., 1., 1., 1., 1., 1., 1.],\n",
              "       [1., 1., 1., 1., 1., 1., 1.],\n",
              "       [1., 1., 1., 1., 1., 1., 1.]], dtype=float32)>"
            ]
          },
          "metadata": {},
          "execution_count": 24
        }
      ]
    },
    {
      "cell_type": "code",
      "source": [
        "# Create a tensor of all zeros\n",
        "tf.zeros(shape=(3, 3))"
      ],
      "metadata": {
        "colab": {
          "base_uri": "https://localhost:8080/"
        },
        "id": "Wd2FuT4oUiRd",
        "outputId": "10fb571f-99b0-4be7-e1e7-d66c7f0e4853"
      },
      "execution_count": 25,
      "outputs": [
        {
          "output_type": "execute_result",
          "data": {
            "text/plain": [
              "<tf.Tensor: shape=(3, 3), dtype=float32, numpy=\n",
              "array([[0., 0., 0.],\n",
              "       [0., 0., 0.],\n",
              "       [0., 0., 0.]], dtype=float32)>"
            ]
          },
          "metadata": {},
          "execution_count": 25
        }
      ]
    },
    {
      "cell_type": "markdown",
      "source": [
        "### Turning Numpy arrays into tensors"
      ],
      "metadata": {
        "id": "gY_ClWJXVDPo"
      }
    },
    {
      "cell_type": "code",
      "source": [
        "# Turning Numpy arrays into tensors\n",
        "import numpy as np\n",
        "\n",
        "# X = tf.constant(some_matrix) # Uppercase for matrix or tensor\n",
        "# y = tf.constant(vector) # lowercase for vector\n",
        "\n",
        "numpy_A = np.arange(1, 25, dtype=np.int32)\n",
        "numpy_A"
      ],
      "metadata": {
        "colab": {
          "base_uri": "https://localhost:8080/"
        },
        "id": "CM8J8dyNUrxQ",
        "outputId": "ea542db9-7d2f-44d0-b302-369b9808e37e"
      },
      "execution_count": 29,
      "outputs": [
        {
          "output_type": "execute_result",
          "data": {
            "text/plain": [
              "array([ 1,  2,  3,  4,  5,  6,  7,  8,  9, 10, 11, 12, 13, 14, 15, 16, 17,\n",
              "       18, 19, 20, 21, 22, 23, 24], dtype=int32)"
            ]
          },
          "metadata": {},
          "execution_count": 29
        }
      ]
    },
    {
      "cell_type": "code",
      "source": [
        "A = tf.constant(numpy_A, shape=(2, 3, 4))\n",
        "B = tf.constant(numpy_A)\n",
        "A, B"
      ],
      "metadata": {
        "colab": {
          "base_uri": "https://localhost:8080/"
        },
        "id": "THKcre3nV-Rh",
        "outputId": "759ecf39-5ba4-4d72-d87d-722b3a84b44a"
      },
      "execution_count": 32,
      "outputs": [
        {
          "output_type": "execute_result",
          "data": {
            "text/plain": [
              "(<tf.Tensor: shape=(2, 3, 4), dtype=int32, numpy=\n",
              " array([[[ 1,  2,  3,  4],\n",
              "         [ 5,  6,  7,  8],\n",
              "         [ 9, 10, 11, 12]],\n",
              " \n",
              "        [[13, 14, 15, 16],\n",
              "         [17, 18, 19, 20],\n",
              "         [21, 22, 23, 24]]], dtype=int32)>,\n",
              " <tf.Tensor: shape=(24,), dtype=int32, numpy=\n",
              " array([ 1,  2,  3,  4,  5,  6,  7,  8,  9, 10, 11, 12, 13, 14, 15, 16, 17,\n",
              "        18, 19, 20, 21, 22, 23, 24], dtype=int32)>)"
            ]
          },
          "metadata": {},
          "execution_count": 32
        }
      ]
    },
    {
      "cell_type": "markdown",
      "source": [
        "### Getting information from tensors\n",
        "\n",
        "![Screenshot 2024-09-28 052529.png](data:image/png;base64,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)"
      ],
      "metadata": {
        "id": "NDT-a_2UWw-q"
      }
    },
    {
      "cell_type": "code",
      "source": [
        "rank_4_tensor = tf.zeros([2, 3, 4, 5])\n",
        "rank_4_tensor"
      ],
      "metadata": {
        "colab": {
          "base_uri": "https://localhost:8080/"
        },
        "id": "lcfwfRBvWIlh",
        "outputId": "6faf477d-897b-4f9d-f8f4-707090ebf50d"
      },
      "execution_count": 33,
      "outputs": [
        {
          "output_type": "execute_result",
          "data": {
            "text/plain": [
              "<tf.Tensor: shape=(2, 3, 4, 5), dtype=float32, numpy=\n",
              "array([[[[0., 0., 0., 0., 0.],\n",
              "         [0., 0., 0., 0., 0.],\n",
              "         [0., 0., 0., 0., 0.],\n",
              "         [0., 0., 0., 0., 0.]],\n",
              "\n",
              "        [[0., 0., 0., 0., 0.],\n",
              "         [0., 0., 0., 0., 0.],\n",
              "         [0., 0., 0., 0., 0.],\n",
              "         [0., 0., 0., 0., 0.]],\n",
              "\n",
              "        [[0., 0., 0., 0., 0.],\n",
              "         [0., 0., 0., 0., 0.],\n",
              "         [0., 0., 0., 0., 0.],\n",
              "         [0., 0., 0., 0., 0.]]],\n",
              "\n",
              "\n",
              "       [[[0., 0., 0., 0., 0.],\n",
              "         [0., 0., 0., 0., 0.],\n",
              "         [0., 0., 0., 0., 0.],\n",
              "         [0., 0., 0., 0., 0.]],\n",
              "\n",
              "        [[0., 0., 0., 0., 0.],\n",
              "         [0., 0., 0., 0., 0.],\n",
              "         [0., 0., 0., 0., 0.],\n",
              "         [0., 0., 0., 0., 0.]],\n",
              "\n",
              "        [[0., 0., 0., 0., 0.],\n",
              "         [0., 0., 0., 0., 0.],\n",
              "         [0., 0., 0., 0., 0.],\n",
              "         [0., 0., 0., 0., 0.]]]], dtype=float32)>"
            ]
          },
          "metadata": {},
          "execution_count": 33
        }
      ]
    },
    {
      "cell_type": "code",
      "source": [
        "rank_4_tensor.shape, rank_4_tensor.ndim, tf.size(rank_4_tensor)"
      ],
      "metadata": {
        "colab": {
          "base_uri": "https://localhost:8080/"
        },
        "id": "Q6kSvXzpYq50",
        "outputId": "897132c0-057b-4585-e536-682b4dd9fc24"
      },
      "execution_count": 34,
      "outputs": [
        {
          "output_type": "execute_result",
          "data": {
            "text/plain": [
              "(TensorShape([2, 3, 4, 5]), 4, <tf.Tensor: shape=(), dtype=int32, numpy=120>)"
            ]
          },
          "metadata": {},
          "execution_count": 34
        }
      ]
    },
    {
      "cell_type": "code",
      "source": [
        "print(\"Datatype of every element:\", rank_4_tensor.dtype)\n",
        "print(\"Number of dimensions (rank):\", rank_4_tensor.ndim)\n",
        "print(\"Shape of tensor:\", rank_4_tensor.shape)\n",
        "print(\"Elements along the 0 axis:\", rank_4_tensor.shape[0])\n",
        "print(\"Elements along the last axis:\", rank_4_tensor.shape[-1])\n",
        "print(\"Total number of elements in the tensor:\", tf.size(rank_4_tensor))\n",
        "print(\"Total number of elements in the tensor:\", tf.size(rank_4_tensor).numpy())"
      ],
      "metadata": {
        "colab": {
          "base_uri": "https://localhost:8080/"
        },
        "id": "yhqYVuerZdtc",
        "outputId": "1b678eff-a475-4b99-e03f-e4a2c86606f1"
      },
      "execution_count": 36,
      "outputs": [
        {
          "output_type": "stream",
          "name": "stdout",
          "text": [
            "Datatype of every element: <dtype: 'float32'>\n",
            "Number of dimensions (rank): 4\n",
            "Shape of tensor: (2, 3, 4, 5)\n",
            "Elements along the 0 axis: 2\n",
            "Elements along the last axis: 5\n",
            "Total number of elements in the tensor: tf.Tensor(120, shape=(), dtype=int32)\n",
            "Total number of elements in the tensor: 120\n"
          ]
        }
      ]
    },
    {
      "cell_type": "markdown",
      "source": [
        "### Indexing tensors"
      ],
      "metadata": {
        "id": "I9rHzrY4a7_n"
      }
    },
    {
      "cell_type": "code",
      "source": [
        "rank_4_tensor[:2, :2, :2, :2]"
      ],
      "metadata": {
        "colab": {
          "base_uri": "https://localhost:8080/"
        },
        "id": "5XOWefasa7iE",
        "outputId": "65b2ca91-7140-46d4-d647-aa0ca035170f"
      },
      "execution_count": 37,
      "outputs": [
        {
          "output_type": "execute_result",
          "data": {
            "text/plain": [
              "<tf.Tensor: shape=(2, 2, 2, 2), dtype=float32, numpy=\n",
              "array([[[[0., 0.],\n",
              "         [0., 0.]],\n",
              "\n",
              "        [[0., 0.],\n",
              "         [0., 0.]]],\n",
              "\n",
              "\n",
              "       [[[0., 0.],\n",
              "         [0., 0.]],\n",
              "\n",
              "        [[0., 0.],\n",
              "         [0., 0.]]]], dtype=float32)>"
            ]
          },
          "metadata": {},
          "execution_count": 37
        }
      ]
    },
    {
      "cell_type": "code",
      "source": [
        "some_list = [1, 2, 3, 4]\n",
        "\n",
        "some_list[:1]"
      ],
      "metadata": {
        "colab": {
          "base_uri": "https://localhost:8080/"
        },
        "id": "7B79Gi0YbbZM",
        "outputId": "149aa310-750e-4110-b999-e8a25146935c"
      },
      "execution_count": 38,
      "outputs": [
        {
          "output_type": "execute_result",
          "data": {
            "text/plain": [
              "[1]"
            ]
          },
          "metadata": {},
          "execution_count": 38
        }
      ]
    },
    {
      "cell_type": "code",
      "source": [
        "# Get the first element from each dimension from each index except for the final one\n",
        "rank_4_tensor[:1, :1, :1, :]"
      ],
      "metadata": {
        "colab": {
          "base_uri": "https://localhost:8080/"
        },
        "id": "1ezFsG24boQj",
        "outputId": "1520d8cf-8bf8-4bda-f0d6-e2801b92afdf"
      },
      "execution_count": 41,
      "outputs": [
        {
          "output_type": "execute_result",
          "data": {
            "text/plain": [
              "<tf.Tensor: shape=(1, 1, 1, 5), dtype=float32, numpy=array([[[[0., 0., 0., 0., 0.]]]], dtype=float32)>"
            ]
          },
          "metadata": {},
          "execution_count": 41
        }
      ]
    },
    {
      "cell_type": "code",
      "source": [
        "# Create a rank 2 tensor\n",
        "rank_2_tensor = tf.constant([[10, 7], [3, 4]])\n",
        "rank_2_tensor.shape, rank_2_tensor.ndim"
      ],
      "metadata": {
        "colab": {
          "base_uri": "https://localhost:8080/"
        },
        "id": "vODgdgAjcDnb",
        "outputId": "494f7d68-a2ae-4b01-f7fe-f0caf2bd38c8"
      },
      "execution_count": 42,
      "outputs": [
        {
          "output_type": "execute_result",
          "data": {
            "text/plain": [
              "(TensorShape([2, 2]), 2)"
            ]
          },
          "metadata": {},
          "execution_count": 42
        }
      ]
    },
    {
      "cell_type": "code",
      "source": [
        "rank_2_tensor"
      ],
      "metadata": {
        "colab": {
          "base_uri": "https://localhost:8080/"
        },
        "id": "J2jmiasIcchC",
        "outputId": "e077a5f6-f690-4b06-8333-5b21b1d6214c"
      },
      "execution_count": 43,
      "outputs": [
        {
          "output_type": "execute_result",
          "data": {
            "text/plain": [
              "<tf.Tensor: shape=(2, 2), dtype=int32, numpy=\n",
              "array([[10,  7],\n",
              "       [ 3,  4]], dtype=int32)>"
            ]
          },
          "metadata": {},
          "execution_count": 43
        }
      ]
    },
    {
      "cell_type": "code",
      "source": [
        "# Get the last item of each row of our rank 2 tensor\n",
        "rank_2_tensor[:, -1]"
      ],
      "metadata": {
        "colab": {
          "base_uri": "https://localhost:8080/"
        },
        "id": "oCMUPiuYcUnV",
        "outputId": "1c0cc710-a6bd-432f-efd9-9c052d2df700"
      },
      "execution_count": 44,
      "outputs": [
        {
          "output_type": "execute_result",
          "data": {
            "text/plain": [
              "<tf.Tensor: shape=(2,), dtype=int32, numpy=array([7, 4], dtype=int32)>"
            ]
          },
          "metadata": {},
          "execution_count": 44
        }
      ]
    },
    {
      "cell_type": "code",
      "source": [
        "# Add in extra dimension to our rank 2 tensor\n",
        "rank_3_tensor = rank_2_tensor[..., tf.newaxis]\n",
        "rank_3_tensor"
      ],
      "metadata": {
        "colab": {
          "base_uri": "https://localhost:8080/"
        },
        "id": "ucFLwjWzcrS8",
        "outputId": "6f97c1f0-57d1-4422-a862-e1f7f6247046"
      },
      "execution_count": 45,
      "outputs": [
        {
          "output_type": "execute_result",
          "data": {
            "text/plain": [
              "<tf.Tensor: shape=(2, 2, 1), dtype=int32, numpy=\n",
              "array([[[10],\n",
              "        [ 7]],\n",
              "\n",
              "       [[ 3],\n",
              "        [ 4]]], dtype=int32)>"
            ]
          },
          "metadata": {},
          "execution_count": 45
        }
      ]
    },
    {
      "cell_type": "code",
      "source": [
        "# Alternative to tf.newaxis\n",
        "tf.expand_dims(rank_2_tensor, axis=-1)"
      ],
      "metadata": {
        "colab": {
          "base_uri": "https://localhost:8080/"
        },
        "id": "MC57o3G2dYj1",
        "outputId": "a77a3da3-2cd6-4cbe-dede-050800caf6df"
      },
      "execution_count": 46,
      "outputs": [
        {
          "output_type": "execute_result",
          "data": {
            "text/plain": [
              "<tf.Tensor: shape=(2, 2, 1), dtype=int32, numpy=\n",
              "array([[[10],\n",
              "        [ 7]],\n",
              "\n",
              "       [[ 3],\n",
              "        [ 4]]], dtype=int32)>"
            ]
          },
          "metadata": {},
          "execution_count": 46
        }
      ]
    },
    {
      "cell_type": "code",
      "source": [
        "tf.expand_dims(rank_2_tensor, axis=0)"
      ],
      "metadata": {
        "colab": {
          "base_uri": "https://localhost:8080/"
        },
        "id": "GlOPEM8FdrR9",
        "outputId": "c28e40c4-6fc9-41c7-942c-031a906b48fc"
      },
      "execution_count": 47,
      "outputs": [
        {
          "output_type": "execute_result",
          "data": {
            "text/plain": [
              "<tf.Tensor: shape=(1, 2, 2), dtype=int32, numpy=\n",
              "array([[[10,  7],\n",
              "        [ 3,  4]]], dtype=int32)>"
            ]
          },
          "metadata": {},
          "execution_count": 47
        }
      ]
    },
    {
      "cell_type": "markdown",
      "source": [
        "### Manipulating tensors (tensor operation)"
      ],
      "metadata": {
        "id": "OU6yYhGtd_5I"
      }
    },
    {
      "cell_type": "code",
      "source": [
        "# Addition\n",
        "tensor = tf.constant([[10, 7],\n",
        "                      [3, 4]])\n",
        "tensor + 10"
      ],
      "metadata": {
        "colab": {
          "base_uri": "https://localhost:8080/"
        },
        "id": "n7jH1xPueIV4",
        "outputId": "7a518c23-88c1-479a-bd88-8545e1976dcd"
      },
      "execution_count": 48,
      "outputs": [
        {
          "output_type": "execute_result",
          "data": {
            "text/plain": [
              "<tf.Tensor: shape=(2, 2), dtype=int32, numpy=\n",
              "array([[20, 17],\n",
              "       [13, 14]], dtype=int32)>"
            ]
          },
          "metadata": {},
          "execution_count": 48
        }
      ]
    },
    {
      "cell_type": "code",
      "source": [
        "tensor"
      ],
      "metadata": {
        "colab": {
          "base_uri": "https://localhost:8080/"
        },
        "id": "ZzOTRHUYeg2L",
        "outputId": "4638f3e2-6153-4148-bdaa-3111b57b0c13"
      },
      "execution_count": 49,
      "outputs": [
        {
          "output_type": "execute_result",
          "data": {
            "text/plain": [
              "<tf.Tensor: shape=(2, 2), dtype=int32, numpy=\n",
              "array([[10,  7],\n",
              "       [ 3,  4]], dtype=int32)>"
            ]
          },
          "metadata": {},
          "execution_count": 49
        }
      ]
    },
    {
      "cell_type": "code",
      "source": [
        "# Multiplication\n",
        "tensor * 10"
      ],
      "metadata": {
        "colab": {
          "base_uri": "https://localhost:8080/"
        },
        "id": "RZIDdi3IesmX",
        "outputId": "4a949889-eb77-4561-8b1b-927e2747b2ae"
      },
      "execution_count": 50,
      "outputs": [
        {
          "output_type": "execute_result",
          "data": {
            "text/plain": [
              "<tf.Tensor: shape=(2, 2), dtype=int32, numpy=\n",
              "array([[100,  70],\n",
              "       [ 30,  40]], dtype=int32)>"
            ]
          },
          "metadata": {},
          "execution_count": 50
        }
      ]
    },
    {
      "cell_type": "code",
      "source": [
        "# Subtraction\n",
        "tensor - 10"
      ],
      "metadata": {
        "colab": {
          "base_uri": "https://localhost:8080/"
        },
        "id": "yO30gITHe1Kx",
        "outputId": "3b18298b-ec05-4104-9754-6d740250cfb1"
      },
      "execution_count": 51,
      "outputs": [
        {
          "output_type": "execute_result",
          "data": {
            "text/plain": [
              "<tf.Tensor: shape=(2, 2), dtype=int32, numpy=\n",
              "array([[ 0, -3],\n",
              "       [-7, -6]], dtype=int32)>"
            ]
          },
          "metadata": {},
          "execution_count": 51
        }
      ]
    },
    {
      "cell_type": "code",
      "source": [
        "# Division\n",
        "tensor / 10"
      ],
      "metadata": {
        "colab": {
          "base_uri": "https://localhost:8080/"
        },
        "id": "5wIUE8A6e5H3",
        "outputId": "ee2a7786-576f-4c1b-ed36-a3a1a93c04f9"
      },
      "execution_count": 52,
      "outputs": [
        {
          "output_type": "execute_result",
          "data": {
            "text/plain": [
              "<tf.Tensor: shape=(2, 2), dtype=float64, numpy=\n",
              "array([[1. , 0.7],\n",
              "       [0.3, 0.4]])>"
            ]
          },
          "metadata": {},
          "execution_count": 52
        }
      ]
    },
    {
      "cell_type": "code",
      "source": [
        "tf.multiply(tensor, 10)"
      ],
      "metadata": {
        "colab": {
          "base_uri": "https://localhost:8080/"
        },
        "id": "gZfuA7K7fCS2",
        "outputId": "b64fcd43-f936-4899-dfbb-4df3a24735bb"
      },
      "execution_count": 53,
      "outputs": [
        {
          "output_type": "execute_result",
          "data": {
            "text/plain": [
              "<tf.Tensor: shape=(2, 2), dtype=int32, numpy=\n",
              "array([[100,  70],\n",
              "       [ 30,  40]], dtype=int32)>"
            ]
          },
          "metadata": {},
          "execution_count": 53
        }
      ]
    },
    {
      "cell_type": "markdown",
      "source": [
        "### Matrix multiplication\n",
        "![Screenshot 2024-09-28 062323.png](data:image/png;base64,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)"
      ],
      "metadata": {
        "id": "ZsPks6-mfjoL"
      }
    },
    {
      "cell_type": "code",
      "source": [
        "print(tensor)\n",
        "tf.matmul(tensor, tensor)"
      ],
      "metadata": {
        "colab": {
          "base_uri": "https://localhost:8080/"
        },
        "id": "tIHzz1hefLMV",
        "outputId": "2e27dd3b-6a9a-4f9a-ab19-c5865b071a34"
      },
      "execution_count": 55,
      "outputs": [
        {
          "output_type": "stream",
          "name": "stdout",
          "text": [
            "tf.Tensor(\n",
            "[[10  7]\n",
            " [ 3  4]], shape=(2, 2), dtype=int32)\n"
          ]
        },
        {
          "output_type": "execute_result",
          "data": {
            "text/plain": [
              "<tf.Tensor: shape=(2, 2), dtype=int32, numpy=\n",
              "array([[121,  98],\n",
              "       [ 42,  37]], dtype=int32)>"
            ]
          },
          "metadata": {},
          "execution_count": 55
        }
      ]
    },
    {
      "cell_type": "code",
      "source": [
        "matrix_1 = tf.constant([[1, 2, 5],\n",
        "                        [7, 2, 1],\n",
        "                        [3, 3, 3]])\n",
        "matrix_2 = tf.constant([[3, 5],\n",
        "                        [6, 7],\n",
        "                        [1,8]])\n",
        "matrix_3 = tf.constant([[1, 2],\n",
        "                        [3, 4],\n",
        "                        [5, 6]])\n",
        "matrix_1, matrix_2, matrix_3"
      ],
      "metadata": {
        "colab": {
          "base_uri": "https://localhost:8080/"
        },
        "id": "9ees7P3zhN4w",
        "outputId": "d4f86799-7105-4b85-d675-f71664e69904"
      },
      "execution_count": 63,
      "outputs": [
        {
          "output_type": "execute_result",
          "data": {
            "text/plain": [
              "(<tf.Tensor: shape=(3, 3), dtype=int32, numpy=\n",
              " array([[1, 2, 5],\n",
              "        [7, 2, 1],\n",
              "        [3, 3, 3]], dtype=int32)>,\n",
              " <tf.Tensor: shape=(3, 2), dtype=int32, numpy=\n",
              " array([[3, 5],\n",
              "        [6, 7],\n",
              "        [1, 8]], dtype=int32)>,\n",
              " <tf.Tensor: shape=(3, 2), dtype=int32, numpy=\n",
              " array([[1, 2],\n",
              "        [3, 4],\n",
              "        [5, 6]], dtype=int32)>)"
            ]
          },
          "metadata": {},
          "execution_count": 63
        }
      ]
    },
    {
      "cell_type": "code",
      "source": [
        "# Matrix multiplication with Python operator \"@\"\n",
        "matrix_1 @ matrix_2"
      ],
      "metadata": {
        "colab": {
          "base_uri": "https://localhost:8080/"
        },
        "id": "0Ozitu2GiE6_",
        "outputId": "6be9991b-c9a7-405c-b2a9-db7c54a8255e"
      },
      "execution_count": 62,
      "outputs": [
        {
          "output_type": "execute_result",
          "data": {
            "text/plain": [
              "<tf.Tensor: shape=(3, 2), dtype=int32, numpy=\n",
              "array([[20, 59],\n",
              "       [34, 57],\n",
              "       [30, 60]], dtype=int32)>"
            ]
          },
          "metadata": {},
          "execution_count": 62
        }
      ]
    },
    {
      "cell_type": "code",
      "source": [
        "# Multiply tensors with different shapes\n",
        "tf.matmul(matrix_1, matrix_2)"
      ],
      "metadata": {
        "colab": {
          "base_uri": "https://localhost:8080/"
        },
        "id": "nmK3i96IhywO",
        "outputId": "77165dd8-8844-49f6-8ad2-c0013927c68d"
      },
      "execution_count": 61,
      "outputs": [
        {
          "output_type": "execute_result",
          "data": {
            "text/plain": [
              "<tf.Tensor: shape=(3, 2), dtype=int32, numpy=\n",
              "array([[20, 59],\n",
              "       [34, 57],\n",
              "       [30, 60]], dtype=int32)>"
            ]
          },
          "metadata": {},
          "execution_count": 61
        }
      ]
    },
    {
      "cell_type": "code",
      "source": [
        "# Multiply tensors of same shape\n",
        "tf.matmul(matrix_2, matrix_3)"
      ],
      "metadata": {
        "colab": {
          "base_uri": "https://localhost:8080/",
          "height": 356
        },
        "id": "ZPNcAl5Ljgvx",
        "outputId": "2bfd002b-d8c9-4b66-ecc8-6ae5e276c824"
      },
      "execution_count": 64,
      "outputs": [
        {
          "output_type": "error",
          "ename": "InvalidArgumentError",
          "evalue": "{{function_node __wrapped__MatMul_device_/job:localhost/replica:0/task:0/device:CPU:0}} Matrix size-incompatible: In[0]: [3,2], In[1]: [3,2] [Op:MatMul] name: ",
          "traceback": [
            "\u001b[0;31m---------------------------------------------------------------------------\u001b[0m",
            "\u001b[0;31mInvalidArgumentError\u001b[0m                      Traceback (most recent call last)",
            "\u001b[0;32m<ipython-input-64-ad740a6f603b>\u001b[0m in \u001b[0;36m<cell line: 2>\u001b[0;34m()\u001b[0m\n\u001b[1;32m      1\u001b[0m \u001b[0;31m# Multiply tensors of same shape\u001b[0m\u001b[0;34m\u001b[0m\u001b[0;34m\u001b[0m\u001b[0m\n\u001b[0;32m----> 2\u001b[0;31m \u001b[0mtf\u001b[0m\u001b[0;34m.\u001b[0m\u001b[0mmatmul\u001b[0m\u001b[0;34m(\u001b[0m\u001b[0mmatrix_2\u001b[0m\u001b[0;34m,\u001b[0m \u001b[0mmatrix_3\u001b[0m\u001b[0;34m)\u001b[0m\u001b[0;34m\u001b[0m\u001b[0;34m\u001b[0m\u001b[0m\n\u001b[0m",
            "\u001b[0;32m/usr/local/lib/python3.10/dist-packages/tensorflow/python/ops/weak_tensor_ops.py\u001b[0m in \u001b[0;36mwrapper\u001b[0;34m(*args, **kwargs)\u001b[0m\n\u001b[1;32m    140\u001b[0m   \u001b[0;32mdef\u001b[0m \u001b[0mwrapper\u001b[0m\u001b[0;34m(\u001b[0m\u001b[0;34m*\u001b[0m\u001b[0margs\u001b[0m\u001b[0;34m,\u001b[0m \u001b[0;34m**\u001b[0m\u001b[0mkwargs\u001b[0m\u001b[0;34m)\u001b[0m\u001b[0;34m:\u001b[0m\u001b[0;34m\u001b[0m\u001b[0;34m\u001b[0m\u001b[0m\n\u001b[1;32m    141\u001b[0m     \u001b[0;32mif\u001b[0m \u001b[0;32mnot\u001b[0m \u001b[0mops\u001b[0m\u001b[0;34m.\u001b[0m\u001b[0mis_auto_dtype_conversion_enabled\u001b[0m\u001b[0;34m(\u001b[0m\u001b[0;34m)\u001b[0m\u001b[0;34m:\u001b[0m\u001b[0;34m\u001b[0m\u001b[0;34m\u001b[0m\u001b[0m\n\u001b[0;32m--> 142\u001b[0;31m       \u001b[0;32mreturn\u001b[0m \u001b[0mop\u001b[0m\u001b[0;34m(\u001b[0m\u001b[0;34m*\u001b[0m\u001b[0margs\u001b[0m\u001b[0;34m,\u001b[0m \u001b[0;34m**\u001b[0m\u001b[0mkwargs\u001b[0m\u001b[0;34m)\u001b[0m\u001b[0;34m\u001b[0m\u001b[0;34m\u001b[0m\u001b[0m\n\u001b[0m\u001b[1;32m    143\u001b[0m     \u001b[0mbound_arguments\u001b[0m \u001b[0;34m=\u001b[0m \u001b[0msignature\u001b[0m\u001b[0;34m.\u001b[0m\u001b[0mbind\u001b[0m\u001b[0;34m(\u001b[0m\u001b[0;34m*\u001b[0m\u001b[0margs\u001b[0m\u001b[0;34m,\u001b[0m \u001b[0;34m**\u001b[0m\u001b[0mkwargs\u001b[0m\u001b[0;34m)\u001b[0m\u001b[0;34m\u001b[0m\u001b[0;34m\u001b[0m\u001b[0m\n\u001b[1;32m    144\u001b[0m     \u001b[0mbound_arguments\u001b[0m\u001b[0;34m.\u001b[0m\u001b[0mapply_defaults\u001b[0m\u001b[0;34m(\u001b[0m\u001b[0;34m)\u001b[0m\u001b[0;34m\u001b[0m\u001b[0;34m\u001b[0m\u001b[0m\n",
            "\u001b[0;32m/usr/local/lib/python3.10/dist-packages/tensorflow/python/util/traceback_utils.py\u001b[0m in \u001b[0;36merror_handler\u001b[0;34m(*args, **kwargs)\u001b[0m\n\u001b[1;32m    151\u001b[0m     \u001b[0;32mexcept\u001b[0m \u001b[0mException\u001b[0m \u001b[0;32mas\u001b[0m \u001b[0me\u001b[0m\u001b[0;34m:\u001b[0m\u001b[0;34m\u001b[0m\u001b[0;34m\u001b[0m\u001b[0m\n\u001b[1;32m    152\u001b[0m       \u001b[0mfiltered_tb\u001b[0m \u001b[0;34m=\u001b[0m \u001b[0m_process_traceback_frames\u001b[0m\u001b[0;34m(\u001b[0m\u001b[0me\u001b[0m\u001b[0;34m.\u001b[0m\u001b[0m__traceback__\u001b[0m\u001b[0;34m)\u001b[0m\u001b[0;34m\u001b[0m\u001b[0;34m\u001b[0m\u001b[0m\n\u001b[0;32m--> 153\u001b[0;31m       \u001b[0;32mraise\u001b[0m \u001b[0me\u001b[0m\u001b[0;34m.\u001b[0m\u001b[0mwith_traceback\u001b[0m\u001b[0;34m(\u001b[0m\u001b[0mfiltered_tb\u001b[0m\u001b[0;34m)\u001b[0m \u001b[0;32mfrom\u001b[0m \u001b[0;32mNone\u001b[0m\u001b[0;34m\u001b[0m\u001b[0;34m\u001b[0m\u001b[0m\n\u001b[0m\u001b[1;32m    154\u001b[0m     \u001b[0;32mfinally\u001b[0m\u001b[0;34m:\u001b[0m\u001b[0;34m\u001b[0m\u001b[0;34m\u001b[0m\u001b[0m\n\u001b[1;32m    155\u001b[0m       \u001b[0;32mdel\u001b[0m \u001b[0mfiltered_tb\u001b[0m\u001b[0;34m\u001b[0m\u001b[0;34m\u001b[0m\u001b[0m\n",
            "\u001b[0;32m/usr/local/lib/python3.10/dist-packages/tensorflow/python/framework/ops.py\u001b[0m in \u001b[0;36mraise_from_not_ok_status\u001b[0;34m(e, name)\u001b[0m\n\u001b[1;32m   5981\u001b[0m \u001b[0;32mdef\u001b[0m \u001b[0mraise_from_not_ok_status\u001b[0m\u001b[0;34m(\u001b[0m\u001b[0me\u001b[0m\u001b[0;34m,\u001b[0m \u001b[0mname\u001b[0m\u001b[0;34m)\u001b[0m \u001b[0;34m->\u001b[0m \u001b[0mNoReturn\u001b[0m\u001b[0;34m:\u001b[0m\u001b[0;34m\u001b[0m\u001b[0;34m\u001b[0m\u001b[0m\n\u001b[1;32m   5982\u001b[0m   \u001b[0me\u001b[0m\u001b[0;34m.\u001b[0m\u001b[0mmessage\u001b[0m \u001b[0;34m+=\u001b[0m \u001b[0;34m(\u001b[0m\u001b[0;34m\" name: \"\u001b[0m \u001b[0;34m+\u001b[0m \u001b[0mstr\u001b[0m\u001b[0;34m(\u001b[0m\u001b[0mname\u001b[0m \u001b[0;32mif\u001b[0m \u001b[0mname\u001b[0m \u001b[0;32mis\u001b[0m \u001b[0;32mnot\u001b[0m \u001b[0;32mNone\u001b[0m \u001b[0;32melse\u001b[0m \u001b[0;34m\"\"\u001b[0m\u001b[0;34m)\u001b[0m\u001b[0;34m)\u001b[0m\u001b[0;34m\u001b[0m\u001b[0;34m\u001b[0m\u001b[0m\n\u001b[0;32m-> 5983\u001b[0;31m   \u001b[0;32mraise\u001b[0m \u001b[0mcore\u001b[0m\u001b[0;34m.\u001b[0m\u001b[0m_status_to_exception\u001b[0m\u001b[0;34m(\u001b[0m\u001b[0me\u001b[0m\u001b[0;34m)\u001b[0m \u001b[0;32mfrom\u001b[0m \u001b[0;32mNone\u001b[0m  \u001b[0;31m# pylint: disable=protected-access\u001b[0m\u001b[0;34m\u001b[0m\u001b[0;34m\u001b[0m\u001b[0m\n\u001b[0m\u001b[1;32m   5984\u001b[0m \u001b[0;34m\u001b[0m\u001b[0m\n\u001b[1;32m   5985\u001b[0m \u001b[0;34m\u001b[0m\u001b[0m\n",
            "\u001b[0;31mInvalidArgumentError\u001b[0m: {{function_node __wrapped__MatMul_device_/job:localhost/replica:0/task:0/device:CPU:0}} Matrix size-incompatible: In[0]: [3,2], In[1]: [3,2] [Op:MatMul] name: "
          ]
        }
      ]
    },
    {
      "cell_type": "code",
      "source": [
        "matrix_3"
      ],
      "metadata": {
        "colab": {
          "base_uri": "https://localhost:8080/"
        },
        "id": "0nBV8bLhmO28",
        "outputId": "74715f5d-1628-42e9-85c2-4626590934da"
      },
      "execution_count": 67,
      "outputs": [
        {
          "output_type": "execute_result",
          "data": {
            "text/plain": [
              "<tf.Tensor: shape=(3, 2), dtype=int32, numpy=\n",
              "array([[1, 2],\n",
              "       [3, 4],\n",
              "       [5, 6]], dtype=int32)>"
            ]
          },
          "metadata": {},
          "execution_count": 67
        }
      ]
    },
    {
      "cell_type": "code",
      "source": [
        "tf.reshape(matrix_3, shape=(2, 3))"
      ],
      "metadata": {
        "colab": {
          "base_uri": "https://localhost:8080/"
        },
        "id": "soKgL39Wj2k3",
        "outputId": "46ea9e40-8e0f-4284-e966-4eba5db61422"
      },
      "execution_count": 66,
      "outputs": [
        {
          "output_type": "execute_result",
          "data": {
            "text/plain": [
              "<tf.Tensor: shape=(2, 3), dtype=int32, numpy=\n",
              "array([[1, 2, 3],\n",
              "       [4, 5, 6]], dtype=int32)>"
            ]
          },
          "metadata": {},
          "execution_count": 66
        }
      ]
    },
    {
      "cell_type": "code",
      "source": [
        "tf.matmul(matrix_2, tf.reshape(matrix_3, shape=(2, 3)))"
      ],
      "metadata": {
        "colab": {
          "base_uri": "https://localhost:8080/"
        },
        "id": "quvfaxR1mRbG",
        "outputId": "9dc3206b-fdac-48f0-a937-fc7f96b242f1"
      },
      "execution_count": 68,
      "outputs": [
        {
          "output_type": "execute_result",
          "data": {
            "text/plain": [
              "<tf.Tensor: shape=(3, 3), dtype=int32, numpy=\n",
              "array([[23, 31, 39],\n",
              "       [34, 47, 60],\n",
              "       [33, 42, 51]], dtype=int32)>"
            ]
          },
          "metadata": {},
          "execution_count": 68
        }
      ]
    },
    {
      "cell_type": "code",
      "source": [
        "matrix_2, tf.transpose(matrix_3)"
      ],
      "metadata": {
        "colab": {
          "base_uri": "https://localhost:8080/"
        },
        "id": "-4d6El0GqBTx",
        "outputId": "6939bc88-07d2-4aa0-bc62-af5fa087d340"
      },
      "execution_count": 71,
      "outputs": [
        {
          "output_type": "execute_result",
          "data": {
            "text/plain": [
              "(<tf.Tensor: shape=(3, 2), dtype=int32, numpy=\n",
              " array([[3, 5],\n",
              "        [6, 7],\n",
              "        [1, 8]], dtype=int32)>,\n",
              " <tf.Tensor: shape=(2, 3), dtype=int32, numpy=\n",
              " array([[1, 3, 5],\n",
              "        [2, 4, 6]], dtype=int32)>)"
            ]
          },
          "metadata": {},
          "execution_count": 71
        }
      ]
    },
    {
      "cell_type": "code",
      "source": [
        "tf.matmul(matrix_2, tf.transpose(matrix_3))"
      ],
      "metadata": {
        "colab": {
          "base_uri": "https://localhost:8080/"
        },
        "id": "6Z62eVEnqMpL",
        "outputId": "84081c8d-e4aa-49a8-f104-0cfe8ca60324"
      },
      "execution_count": 72,
      "outputs": [
        {
          "output_type": "execute_result",
          "data": {
            "text/plain": [
              "<tf.Tensor: shape=(3, 3), dtype=int32, numpy=\n",
              "array([[13, 29, 45],\n",
              "       [20, 46, 72],\n",
              "       [17, 35, 53]], dtype=int32)>"
            ]
          },
          "metadata": {},
          "execution_count": 72
        }
      ]
    },
    {
      "cell_type": "code",
      "source": [
        "tf.tensordot(tf.transpose(matrix_2), matrix_3, axes=1)"
      ],
      "metadata": {
        "colab": {
          "base_uri": "https://localhost:8080/"
        },
        "id": "q8_0fw6dqY7y",
        "outputId": "390e48ea-f8e7-4f7d-a7f6-04915dd2f2fc"
      },
      "execution_count": 74,
      "outputs": [
        {
          "output_type": "execute_result",
          "data": {
            "text/plain": [
              "<tf.Tensor: shape=(2, 2), dtype=int32, numpy=\n",
              "array([[26, 36],\n",
              "       [66, 86]], dtype=int32)>"
            ]
          },
          "metadata": {},
          "execution_count": 74
        }
      ]
    },
    {
      "cell_type": "code",
      "source": [
        "tf.matmul(matrix_2, tf.reshape(matrix_3, shape=(2, 3)))"
      ],
      "metadata": {
        "colab": {
          "base_uri": "https://localhost:8080/"
        },
        "id": "ezM98yHLqwOe",
        "outputId": "5eb01d98-5d30-42af-8c96-d251506231eb"
      },
      "execution_count": 75,
      "outputs": [
        {
          "output_type": "execute_result",
          "data": {
            "text/plain": [
              "<tf.Tensor: shape=(3, 3), dtype=int32, numpy=\n",
              "array([[23, 31, 39],\n",
              "       [34, 47, 60],\n",
              "       [33, 42, 51]], dtype=int32)>"
            ]
          },
          "metadata": {},
          "execution_count": 75
        }
      ]
    },
    {
      "cell_type": "code",
      "source": [
        "print(\"Normal matrix_3:\")\n",
        "print(matrix_3, \"\\n\")\n",
        "print(\"matrix_3 reshaped to (2, 3):\")\n",
        "print(tf.reshape(matrix_3, shape=(2, 3)), \"\\n\")\n",
        "print(\"matrix_3 transposed:\")\n",
        "print(tf.transpose(matrix_3), \"\\n\")"
      ],
      "metadata": {
        "colab": {
          "base_uri": "https://localhost:8080/"
        },
        "id": "rbA5T1poq5uy",
        "outputId": "e1f615d7-bf6e-410a-f08b-b53dd063a9ba"
      },
      "execution_count": 76,
      "outputs": [
        {
          "output_type": "stream",
          "name": "stdout",
          "text": [
            "Normal matrix_3:\n",
            "tf.Tensor(\n",
            "[[1 2]\n",
            " [3 4]\n",
            " [5 6]], shape=(3, 2), dtype=int32) \n",
            "\n",
            "matrix_3 reshaped to (2, 3):\n",
            "tf.Tensor(\n",
            "[[1 2 3]\n",
            " [4 5 6]], shape=(2, 3), dtype=int32) \n",
            "\n",
            "matrix_3 transposed:\n",
            "tf.Tensor(\n",
            "[[1 3 5]\n",
            " [2 4 6]], shape=(2, 3), dtype=int32) \n",
            "\n"
          ]
        }
      ]
    },
    {
      "cell_type": "markdown",
      "source": [
        "### Changing the datatype of a tensor"
      ],
      "metadata": {
        "id": "v6uKBVogsQIq"
      }
    },
    {
      "cell_type": "code",
      "source": [
        "B = tf.constant([1.7, 7.4])\n",
        "B.dtype"
      ],
      "metadata": {
        "colab": {
          "base_uri": "https://localhost:8080/"
        },
        "id": "D9tBpIDtsPnr",
        "outputId": "8369fc94-d8e0-4b83-bdc1-dc054f94d228"
      },
      "execution_count": 77,
      "outputs": [
        {
          "output_type": "execute_result",
          "data": {
            "text/plain": [
              "tf.float32"
            ]
          },
          "metadata": {},
          "execution_count": 77
        }
      ]
    },
    {
      "cell_type": "code",
      "source": [
        "C = tf.constant([7, 10])\n",
        "C.dtype"
      ],
      "metadata": {
        "colab": {
          "base_uri": "https://localhost:8080/"
        },
        "id": "QoCpFRzJsd9B",
        "outputId": "770669ff-a851-4701-9ba3-56fe3c858f8a"
      },
      "execution_count": 78,
      "outputs": [
        {
          "output_type": "execute_result",
          "data": {
            "text/plain": [
              "tf.int32"
            ]
          },
          "metadata": {},
          "execution_count": 78
        }
      ]
    },
    {
      "cell_type": "code",
      "source": [
        "# Change from float32 to float16\n",
        "D = tf.cast(B, dtype=tf.float16)\n",
        "D.dtype"
      ],
      "metadata": {
        "colab": {
          "base_uri": "https://localhost:8080/"
        },
        "id": "zbuNufpAtLwB",
        "outputId": "79a2a9f0-42c8-4b1f-84cf-d8a1e3bb8416"
      },
      "execution_count": 81,
      "outputs": [
        {
          "output_type": "execute_result",
          "data": {
            "text/plain": [
              "tf.float16"
            ]
          },
          "metadata": {},
          "execution_count": 81
        }
      ]
    },
    {
      "cell_type": "markdown",
      "source": [
        "### Aggregating tensors\n",
        "\n",
        "* condensing them from multiple values down to a smaller amount of values."
      ],
      "metadata": {
        "id": "Jem-kGqFvHT9"
      }
    },
    {
      "cell_type": "code",
      "source": [
        "E = tf.constant(np.random.randint(0, 100, size=50))\n",
        "E"
      ],
      "metadata": {
        "colab": {
          "base_uri": "https://localhost:8080/"
        },
        "id": "4JqtdiU1vLSi",
        "outputId": "c06fd67a-5722-427a-fd6d-c97d2f6b71ea"
      },
      "execution_count": 108,
      "outputs": [
        {
          "output_type": "execute_result",
          "data": {
            "text/plain": [
              "<tf.Tensor: shape=(50,), dtype=int64, numpy=\n",
              "array([ 9, 86, 12, 50, 23,  5, 21, 67, 43, 18, 68, 28, 92, 22, 82, 91, 36,\n",
              "        6, 13, 11, 70, 39, 60, 68, 93, 55, 36, 35, 71, 17, 66, 47, 93,  2,\n",
              "       20, 41, 58, 15, 12, 49, 76,  8, 23, 23,  5, 78, 79, 80, 49,  7])>"
            ]
          },
          "metadata": {},
          "execution_count": 108
        }
      ]
    },
    {
      "cell_type": "code",
      "source": [
        "tf.abs(E)"
      ],
      "metadata": {
        "colab": {
          "base_uri": "https://localhost:8080/"
        },
        "id": "jr7SbwUpwdKo",
        "outputId": "af597136-a16b-489e-c827-dce640330b48"
      },
      "execution_count": 99,
      "outputs": [
        {
          "output_type": "execute_result",
          "data": {
            "text/plain": [
              "<tf.Tensor: shape=(50,), dtype=int64, numpy=\n",
              "array([ 2, 32,  5, 16, 89, 28, 17, 59, 72, 75, 66, 95, 51, 61, 93, 16, 96,\n",
              "       54, 89, 37, 90, 32, 33, 15, 44, 81, 23, 74, 53, 15, 31, 38, 79, 30,\n",
              "       20, 98, 78, 20, 21, 68, 26, 32, 35, 50, 75, 74, 27, 25,  9, 45])>"
            ]
          },
          "metadata": {},
          "execution_count": 99
        }
      ]
    },
    {
      "cell_type": "code",
      "source": [
        "# Get the minimum\n",
        "tf.reduce_min(E)"
      ],
      "metadata": {
        "colab": {
          "base_uri": "https://localhost:8080/"
        },
        "id": "IfSngkNAwsU_",
        "outputId": "df9edf38-0cc7-49a1-83fe-b70341064ad3"
      },
      "execution_count": 101,
      "outputs": [
        {
          "output_type": "execute_result",
          "data": {
            "text/plain": [
              "<tf.Tensor: shape=(), dtype=int64, numpy=2>"
            ]
          },
          "metadata": {},
          "execution_count": 101
        }
      ]
    },
    {
      "cell_type": "code",
      "source": [
        "# Get the maximum\n",
        "tf.reduce_max(E)"
      ],
      "metadata": {
        "colab": {
          "base_uri": "https://localhost:8080/"
        },
        "id": "fC3uOkNtwwAH",
        "outputId": "c91c9469-42b0-43fb-efc1-19428075ea24"
      },
      "execution_count": 102,
      "outputs": [
        {
          "output_type": "execute_result",
          "data": {
            "text/plain": [
              "<tf.Tensor: shape=(), dtype=int64, numpy=98>"
            ]
          },
          "metadata": {},
          "execution_count": 102
        }
      ]
    },
    {
      "cell_type": "code",
      "source": [
        "# Get the mean of a tensor\n",
        "tf.reduce_mean(E)"
      ],
      "metadata": {
        "colab": {
          "base_uri": "https://localhost:8080/"
        },
        "id": "PFP3_doMwyVu",
        "outputId": "a6e0301d-b47b-45c0-f9ca-e7327b1357db"
      },
      "execution_count": 103,
      "outputs": [
        {
          "output_type": "execute_result",
          "data": {
            "text/plain": [
              "<tf.Tensor: shape=(), dtype=int64, numpy=47>"
            ]
          },
          "metadata": {},
          "execution_count": 103
        }
      ]
    },
    {
      "cell_type": "code",
      "source": [
        "# Get the sum of a tensor\n",
        "tf.reduce_sum(E)"
      ],
      "metadata": {
        "colab": {
          "base_uri": "https://localhost:8080/"
        },
        "id": "EzG0PnEnw3MA",
        "outputId": "856a7432-62e4-46c4-e675-278b9a655abf"
      },
      "execution_count": 104,
      "outputs": [
        {
          "output_type": "execute_result",
          "data": {
            "text/plain": [
              "<tf.Tensor: shape=(), dtype=int64, numpy=2394>"
            ]
          },
          "metadata": {},
          "execution_count": 104
        }
      ]
    },
    {
      "cell_type": "code",
      "source": [
        "# Get the variance of a tensor\n",
        "import tensorflow_probability as tfp\n",
        "tfp.stats.variance(E), tf.math.reduce_variance(tf.cast(E, dtype=tf.float32))"
      ],
      "metadata": {
        "colab": {
          "base_uri": "https://localhost:8080/"
        },
        "id": "WpX02ZSjy_IE",
        "outputId": "bb8f12fc-1de7-4c12-cd06-c5349976e792"
      },
      "execution_count": 119,
      "outputs": [
        {
          "output_type": "execute_result",
          "data": {
            "text/plain": [
              "(<tf.Tensor: shape=(), dtype=int64, numpy=826>,\n",
              " <tf.Tensor: shape=(), dtype=float32, numpy=826.45447>)"
            ]
          },
          "metadata": {},
          "execution_count": 119
        }
      ]
    },
    {
      "cell_type": "code",
      "source": [
        "# Get the standard deviation\n",
        "tf.math.reduce_std(tf.cast(E, dtype=tf.float32))"
      ],
      "metadata": {
        "colab": {
          "base_uri": "https://localhost:8080/"
        },
        "id": "jdx9qgHu1N1B",
        "outputId": "2193f951-8864-4e05-b129-63b052c7846e"
      },
      "execution_count": 116,
      "outputs": [
        {
          "output_type": "execute_result",
          "data": {
            "text/plain": [
              "<tf.Tensor: shape=(), dtype=float32, numpy=28.748121>"
            ]
          },
          "metadata": {},
          "execution_count": 116
        }
      ]
    },
    {
      "cell_type": "markdown",
      "source": [
        "### Find the positional maximum and minimum"
      ],
      "metadata": {
        "id": "Csbo-hs22gUF"
      }
    },
    {
      "cell_type": "code",
      "source": [
        "tf.random.set_seed(42)\n",
        "F = tf.random.uniform(shape=[50])\n",
        "F"
      ],
      "metadata": {
        "colab": {
          "base_uri": "https://localhost:8080/"
        },
        "id": "TvGkUjQR3_6p",
        "outputId": "dbdea294-3cb8-4d13-b4d7-ff1ef72c2216"
      },
      "execution_count": 120,
      "outputs": [
        {
          "output_type": "execute_result",
          "data": {
            "text/plain": [
              "<tf.Tensor: shape=(50,), dtype=float32, numpy=\n",
              "array([0.6645621 , 0.44100678, 0.3528825 , 0.46448255, 0.03366041,\n",
              "       0.68467236, 0.74011743, 0.8724445 , 0.22632635, 0.22319686,\n",
              "       0.3103881 , 0.7223358 , 0.13318717, 0.5480639 , 0.5746088 ,\n",
              "       0.8996835 , 0.00946367, 0.5212307 , 0.6345445 , 0.1993283 ,\n",
              "       0.72942245, 0.54583454, 0.10756552, 0.6767061 , 0.6602763 ,\n",
              "       0.33695042, 0.60141766, 0.21062577, 0.8527372 , 0.44062173,\n",
              "       0.9485276 , 0.23752594, 0.81179297, 0.5263394 , 0.494308  ,\n",
              "       0.21612847, 0.8457197 , 0.8718841 , 0.3083862 , 0.6868038 ,\n",
              "       0.23764038, 0.7817228 , 0.9671384 , 0.06870162, 0.79873943,\n",
              "       0.66028714, 0.5871513 , 0.16461694, 0.7381023 , 0.32054043],\n",
              "      dtype=float32)>"
            ]
          },
          "metadata": {},
          "execution_count": 120
        }
      ]
    },
    {
      "cell_type": "code",
      "source": [
        "# Get the Argmax\n",
        "tf.argmax(F)"
      ],
      "metadata": {
        "colab": {
          "base_uri": "https://localhost:8080/"
        },
        "id": "w4Pxbwem2frU",
        "outputId": "26907ebe-2a0d-4d16-ff86-b0be7c45cc04"
      },
      "execution_count": 122,
      "outputs": [
        {
          "output_type": "execute_result",
          "data": {
            "text/plain": [
              "<tf.Tensor: shape=(), dtype=int64, numpy=42>"
            ]
          },
          "metadata": {},
          "execution_count": 122
        }
      ]
    },
    {
      "cell_type": "code",
      "source": [
        "# Index on our largest value position\n",
        "F[tf.argmax(F)]"
      ],
      "metadata": {
        "colab": {
          "base_uri": "https://localhost:8080/"
        },
        "id": "JVEN6uC34e3m",
        "outputId": "c1ede2a4-7137-474d-fd09-7691ade71610"
      },
      "execution_count": 124,
      "outputs": [
        {
          "output_type": "execute_result",
          "data": {
            "text/plain": [
              "<tf.Tensor: shape=(), dtype=float32, numpy=0.9671384>"
            ]
          },
          "metadata": {},
          "execution_count": 124
        }
      ]
    },
    {
      "cell_type": "code",
      "source": [
        "tf.reduce_max(F)"
      ],
      "metadata": {
        "colab": {
          "base_uri": "https://localhost:8080/"
        },
        "id": "VdY_0qck45Ny",
        "outputId": "d92293c3-9c45-40e3-8ef4-b689b0195cbd"
      },
      "execution_count": 127,
      "outputs": [
        {
          "output_type": "execute_result",
          "data": {
            "text/plain": [
              "<tf.Tensor: shape=(), dtype=float32, numpy=0.9671384>"
            ]
          },
          "metadata": {},
          "execution_count": 127
        }
      ]
    },
    {
      "cell_type": "code",
      "source": [
        "# Check for equality\n",
        "F[tf.argmax(F)] == tf.reduce_max(F)"
      ],
      "metadata": {
        "colab": {
          "base_uri": "https://localhost:8080/"
        },
        "id": "36RGaMsY5Acc",
        "outputId": "12e89b75-54d7-4409-cd57-804f46e8bdd0"
      },
      "execution_count": 128,
      "outputs": [
        {
          "output_type": "execute_result",
          "data": {
            "text/plain": [
              "<tf.Tensor: shape=(), dtype=bool, numpy=True>"
            ]
          },
          "metadata": {},
          "execution_count": 128
        }
      ]
    },
    {
      "cell_type": "code",
      "source": [
        "# Get the Argmin\n",
        "tf.argmin(F)"
      ],
      "metadata": {
        "colab": {
          "base_uri": "https://localhost:8080/"
        },
        "id": "2JPxQ5gO24IB",
        "outputId": "9da474ca-cbf9-44b3-b1a2-45ffc1f65915"
      },
      "execution_count": 123,
      "outputs": [
        {
          "output_type": "execute_result",
          "data": {
            "text/plain": [
              "<tf.Tensor: shape=(), dtype=int64, numpy=16>"
            ]
          },
          "metadata": {},
          "execution_count": 123
        }
      ]
    },
    {
      "cell_type": "code",
      "source": [
        "# Index on our smallest value position\n",
        "F[tf.argmin(F)]"
      ],
      "metadata": {
        "colab": {
          "base_uri": "https://localhost:8080/"
        },
        "id": "-sDxJs4h4nSc",
        "outputId": "26bd3e0b-7463-4266-c149-3f7939dcb605"
      },
      "execution_count": 125,
      "outputs": [
        {
          "output_type": "execute_result",
          "data": {
            "text/plain": [
              "<tf.Tensor: shape=(), dtype=float32, numpy=0.009463668>"
            ]
          },
          "metadata": {},
          "execution_count": 125
        }
      ]
    },
    {
      "cell_type": "code",
      "source": [
        "tf.reduce_min(F)"
      ],
      "metadata": {
        "colab": {
          "base_uri": "https://localhost:8080/"
        },
        "id": "JEM-Kmp05IrJ",
        "outputId": "7e7e8f06-02ee-4da5-9d5f-9e9a3a374858"
      },
      "execution_count": 129,
      "outputs": [
        {
          "output_type": "execute_result",
          "data": {
            "text/plain": [
              "<tf.Tensor: shape=(), dtype=float32, numpy=0.009463668>"
            ]
          },
          "metadata": {},
          "execution_count": 129
        }
      ]
    },
    {
      "cell_type": "code",
      "source": [
        "# Check for equality\n",
        "F[tf.argmin(F)] == tf.reduce_min(F)"
      ],
      "metadata": {
        "colab": {
          "base_uri": "https://localhost:8080/"
        },
        "id": "Q7iIcDNH5MgM",
        "outputId": "4daf5a47-edea-4c49-8ead-a59cfbe41648"
      },
      "execution_count": 130,
      "outputs": [
        {
          "output_type": "execute_result",
          "data": {
            "text/plain": [
              "<tf.Tensor: shape=(), dtype=bool, numpy=True>"
            ]
          },
          "metadata": {},
          "execution_count": 130
        }
      ]
    },
    {
      "cell_type": "markdown",
      "source": [
        "### Squeezing a tensor\n",
        "\n",
        "* removing all single dimension"
      ],
      "metadata": {
        "id": "-lqSH5zc5QqR"
      }
    },
    {
      "cell_type": "code",
      "source": [
        "tf.random.set_seed(42)\n",
        "G = tf.constant(tf.random.uniform(shape=[50]), shape=(1, 1, 1, 1, 50))\n",
        "G"
      ],
      "metadata": {
        "colab": {
          "base_uri": "https://localhost:8080/"
        },
        "id": "iDhojXcs5uCB",
        "outputId": "9ed74236-504e-49c9-f34f-0f12ed173884"
      },
      "execution_count": 131,
      "outputs": [
        {
          "output_type": "execute_result",
          "data": {
            "text/plain": [
              "<tf.Tensor: shape=(1, 1, 1, 1, 50), dtype=float32, numpy=\n",
              "array([[[[[0.6645621 , 0.44100678, 0.3528825 , 0.46448255, 0.03366041,\n",
              "           0.68467236, 0.74011743, 0.8724445 , 0.22632635, 0.22319686,\n",
              "           0.3103881 , 0.7223358 , 0.13318717, 0.5480639 , 0.5746088 ,\n",
              "           0.8996835 , 0.00946367, 0.5212307 , 0.6345445 , 0.1993283 ,\n",
              "           0.72942245, 0.54583454, 0.10756552, 0.6767061 , 0.6602763 ,\n",
              "           0.33695042, 0.60141766, 0.21062577, 0.8527372 , 0.44062173,\n",
              "           0.9485276 , 0.23752594, 0.81179297, 0.5263394 , 0.494308  ,\n",
              "           0.21612847, 0.8457197 , 0.8718841 , 0.3083862 , 0.6868038 ,\n",
              "           0.23764038, 0.7817228 , 0.9671384 , 0.06870162, 0.79873943,\n",
              "           0.66028714, 0.5871513 , 0.16461694, 0.7381023 , 0.32054043]]]]],\n",
              "      dtype=float32)>"
            ]
          },
          "metadata": {},
          "execution_count": 131
        }
      ]
    },
    {
      "cell_type": "code",
      "source": [
        "G.shape"
      ],
      "metadata": {
        "colab": {
          "base_uri": "https://localhost:8080/"
        },
        "id": "LhLSxq2z6CIb",
        "outputId": "dd248bc1-1c4c-40d5-a752-a99b733d2c79"
      },
      "execution_count": 132,
      "outputs": [
        {
          "output_type": "execute_result",
          "data": {
            "text/plain": [
              "TensorShape([1, 1, 1, 1, 50])"
            ]
          },
          "metadata": {},
          "execution_count": 132
        }
      ]
    },
    {
      "cell_type": "code",
      "source": [
        "G_squeezed = tf.squeeze(G)\n",
        "G_squeezed, G_squeezed.shape"
      ],
      "metadata": {
        "colab": {
          "base_uri": "https://localhost:8080/"
        },
        "id": "-2J4li536MPm",
        "outputId": "841d1836-42a4-4e53-c3c6-80921876d168"
      },
      "execution_count": 133,
      "outputs": [
        {
          "output_type": "execute_result",
          "data": {
            "text/plain": [
              "(<tf.Tensor: shape=(50,), dtype=float32, numpy=\n",
              " array([0.6645621 , 0.44100678, 0.3528825 , 0.46448255, 0.03366041,\n",
              "        0.68467236, 0.74011743, 0.8724445 , 0.22632635, 0.22319686,\n",
              "        0.3103881 , 0.7223358 , 0.13318717, 0.5480639 , 0.5746088 ,\n",
              "        0.8996835 , 0.00946367, 0.5212307 , 0.6345445 , 0.1993283 ,\n",
              "        0.72942245, 0.54583454, 0.10756552, 0.6767061 , 0.6602763 ,\n",
              "        0.33695042, 0.60141766, 0.21062577, 0.8527372 , 0.44062173,\n",
              "        0.9485276 , 0.23752594, 0.81179297, 0.5263394 , 0.494308  ,\n",
              "        0.21612847, 0.8457197 , 0.8718841 , 0.3083862 , 0.6868038 ,\n",
              "        0.23764038, 0.7817228 , 0.9671384 , 0.06870162, 0.79873943,\n",
              "        0.66028714, 0.5871513 , 0.16461694, 0.7381023 , 0.32054043],\n",
              "       dtype=float32)>,\n",
              " TensorShape([50]))"
            ]
          },
          "metadata": {},
          "execution_count": 133
        }
      ]
    },
    {
      "cell_type": "markdown",
      "source": [
        "### One-hot encoding tensors"
      ],
      "metadata": {
        "id": "aMbkHh9n6leq"
      }
    },
    {
      "cell_type": "code",
      "source": [
        "# Create a list of indices\n",
        "some_list = [0, 1, 2, 3]\n",
        "\n",
        "# One-hot encode\n",
        "tf.one_hot(some_list, depth=4)"
      ],
      "metadata": {
        "colab": {
          "base_uri": "https://localhost:8080/"
        },
        "id": "pqZG-jEJ6o2K",
        "outputId": "fe973220-7bb0-4aee-ec19-53ad73720e46"
      },
      "execution_count": 134,
      "outputs": [
        {
          "output_type": "execute_result",
          "data": {
            "text/plain": [
              "<tf.Tensor: shape=(4, 4), dtype=float32, numpy=\n",
              "array([[1., 0., 0., 0.],\n",
              "       [0., 1., 0., 0.],\n",
              "       [0., 0., 1., 0.],\n",
              "       [0., 0., 0., 1.]], dtype=float32)>"
            ]
          },
          "metadata": {},
          "execution_count": 134
        }
      ]
    },
    {
      "cell_type": "code",
      "source": [
        "tf.one_hot(some_list, depth=3)"
      ],
      "metadata": {
        "colab": {
          "base_uri": "https://localhost:8080/"
        },
        "id": "8Zh6B2Th8H70",
        "outputId": "15c7353f-4d16-4461-a98b-b4cbc04fc90f"
      },
      "execution_count": 137,
      "outputs": [
        {
          "output_type": "execute_result",
          "data": {
            "text/plain": [
              "<tf.Tensor: shape=(4, 3), dtype=float32, numpy=\n",
              "array([[1., 0., 0.],\n",
              "       [0., 1., 0.],\n",
              "       [0., 0., 1.],\n",
              "       [0., 0., 0.]], dtype=float32)>"
            ]
          },
          "metadata": {},
          "execution_count": 137
        }
      ]
    },
    {
      "cell_type": "code",
      "source": [
        "# One-hot encode with custom values\n",
        "tf.one_hot(some_list, depth=4, on_value=\"sup\", off_value=\"hey\")"
      ],
      "metadata": {
        "colab": {
          "base_uri": "https://localhost:8080/"
        },
        "id": "59gO5E407mkJ",
        "outputId": "bbf55241-8b7b-4b4a-c748-a4600eb91c7f"
      },
      "execution_count": 136,
      "outputs": [
        {
          "output_type": "execute_result",
          "data": {
            "text/plain": [
              "<tf.Tensor: shape=(4, 4), dtype=string, numpy=\n",
              "array([[b'sup', b'hey', b'hey', b'hey'],\n",
              "       [b'hey', b'sup', b'hey', b'hey'],\n",
              "       [b'hey', b'hey', b'sup', b'hey'],\n",
              "       [b'hey', b'hey', b'hey', b'sup']], dtype=object)>"
            ]
          },
          "metadata": {},
          "execution_count": 136
        }
      ]
    },
    {
      "cell_type": "markdown",
      "source": [
        "### Square, log, square root"
      ],
      "metadata": {
        "id": "P3ZJ0C9k79MG"
      }
    },
    {
      "cell_type": "code",
      "source": [
        "H = tf.range(1, 10)\n",
        "H"
      ],
      "metadata": {
        "colab": {
          "base_uri": "https://localhost:8080/"
        },
        "id": "5kUrQ6pn78lb",
        "outputId": "31d6c14b-d707-4d85-b742-17b74beb1d96"
      },
      "execution_count": 138,
      "outputs": [
        {
          "output_type": "execute_result",
          "data": {
            "text/plain": [
              "<tf.Tensor: shape=(9,), dtype=int32, numpy=array([1, 2, 3, 4, 5, 6, 7, 8, 9], dtype=int32)>"
            ]
          },
          "metadata": {},
          "execution_count": 138
        }
      ]
    },
    {
      "cell_type": "code",
      "source": [
        "# Square\n",
        "tf.square(H)"
      ],
      "metadata": {
        "colab": {
          "base_uri": "https://localhost:8080/"
        },
        "id": "mjWzxcrt8nYC",
        "outputId": "f9abe7cc-ceb0-4857-bde9-e44affdf592c"
      },
      "execution_count": 139,
      "outputs": [
        {
          "output_type": "execute_result",
          "data": {
            "text/plain": [
              "<tf.Tensor: shape=(9,), dtype=int32, numpy=array([ 1,  4,  9, 16, 25, 36, 49, 64, 81], dtype=int32)>"
            ]
          },
          "metadata": {},
          "execution_count": 139
        }
      ]
    },
    {
      "cell_type": "code",
      "source": [
        "# Square root\n",
        "tf.sqrt(tf.cast(H, tf.float32))"
      ],
      "metadata": {
        "colab": {
          "base_uri": "https://localhost:8080/"
        },
        "id": "nj-LTdNs8tZp",
        "outputId": "e5874a69-22be-4ae1-c3e9-24632a34cb0f"
      },
      "execution_count": 142,
      "outputs": [
        {
          "output_type": "execute_result",
          "data": {
            "text/plain": [
              "<tf.Tensor: shape=(9,), dtype=float32, numpy=\n",
              "array([1.       , 1.4142135, 1.7320508, 2.       , 2.236068 , 2.4494898,\n",
              "       2.6457512, 2.828427 , 3.       ], dtype=float32)>"
            ]
          },
          "metadata": {},
          "execution_count": 142
        }
      ]
    },
    {
      "cell_type": "code",
      "source": [
        "# Log\n",
        "tf.math.log(tf.cast(H, tf.float32))"
      ],
      "metadata": {
        "colab": {
          "base_uri": "https://localhost:8080/"
        },
        "id": "xLq7cS_89FlI",
        "outputId": "6560a60c-89a1-4a34-c21c-707a6fa1a436"
      },
      "execution_count": 144,
      "outputs": [
        {
          "output_type": "execute_result",
          "data": {
            "text/plain": [
              "<tf.Tensor: shape=(9,), dtype=float32, numpy=\n",
              "array([0.       , 0.6931472, 1.0986123, 1.3862944, 1.609438 , 1.7917595,\n",
              "       1.9459102, 2.0794415, 2.1972246], dtype=float32)>"
            ]
          },
          "metadata": {},
          "execution_count": 144
        }
      ]
    },
    {
      "cell_type": "markdown",
      "source": [
        "### Tensors and NumPy"
      ],
      "metadata": {
        "id": "jQYB6TFq98Gy"
      }
    },
    {
      "cell_type": "code",
      "source": [
        "J = tf.constant(np.array([3., 7., 10.]))\n",
        "J"
      ],
      "metadata": {
        "colab": {
          "base_uri": "https://localhost:8080/"
        },
        "id": "4Hx0RMpP9-9a",
        "outputId": "542ce1f6-603f-42b9-a65b-e29dbda285ab"
      },
      "execution_count": 145,
      "outputs": [
        {
          "output_type": "execute_result",
          "data": {
            "text/plain": [
              "<tf.Tensor: shape=(3,), dtype=float64, numpy=array([ 3.,  7., 10.])>"
            ]
          },
          "metadata": {},
          "execution_count": 145
        }
      ]
    },
    {
      "cell_type": "code",
      "source": [
        "# Convert tensor back to a NumPy array\n",
        "np.array(J), type(np.array(J))"
      ],
      "metadata": {
        "colab": {
          "base_uri": "https://localhost:8080/"
        },
        "id": "1NJwN_A6-UAb",
        "outputId": "7e9d9b14-820a-44c5-bb9d-2e20fd655e5e"
      },
      "execution_count": 146,
      "outputs": [
        {
          "output_type": "execute_result",
          "data": {
            "text/plain": [
              "(array([ 3.,  7., 10.]), numpy.ndarray)"
            ]
          },
          "metadata": {},
          "execution_count": 146
        }
      ]
    },
    {
      "cell_type": "code",
      "source": [
        "# Convert tensor to a Numpy array\n",
        "J.numpy(), type(J.numpy())"
      ],
      "metadata": {
        "colab": {
          "base_uri": "https://localhost:8080/"
        },
        "id": "4gd-QKC_-ic8",
        "outputId": "fe70a991-a9ea-4aa0-aba8-d076da90b87a"
      },
      "execution_count": 147,
      "outputs": [
        {
          "output_type": "execute_result",
          "data": {
            "text/plain": [
              "(array([ 3.,  7., 10.]), numpy.ndarray)"
            ]
          },
          "metadata": {},
          "execution_count": 147
        }
      ]
    },
    {
      "cell_type": "code",
      "source": [
        "numpy_J = tf.constant(np.array([3., 7., 10.]))\n",
        "tensor_J = tf.constant([3., 7., 10.])\n",
        "\n",
        "numpy_J.dtype, tensor_J.dtype"
      ],
      "metadata": {
        "colab": {
          "base_uri": "https://localhost:8080/"
        },
        "id": "rg5Sy4aN_AMw",
        "outputId": "e1a05a22-c437-460f-d6dd-1247f1671d1c"
      },
      "execution_count": 149,
      "outputs": [
        {
          "output_type": "execute_result",
          "data": {
            "text/plain": [
              "(tf.float64, tf.float32)"
            ]
          },
          "metadata": {},
          "execution_count": 149
        }
      ]
    },
    {
      "cell_type": "markdown",
      "source": [
        "### Finding access to GPUs\n"
      ],
      "metadata": {
        "id": "RniqeXNzAejb"
      }
    },
    {
      "cell_type": "code",
      "source": [
        "import tensorflow as tf\n",
        "tf.config.list_physical_devices()"
      ],
      "metadata": {
        "colab": {
          "base_uri": "https://localhost:8080/"
        },
        "id": "CgR8sX2mAhb5",
        "outputId": "754ef0b5-d689-4c0c-c58b-d111d12e25f8"
      },
      "execution_count": 1,
      "outputs": [
        {
          "output_type": "execute_result",
          "data": {
            "text/plain": [
              "[PhysicalDevice(name='/physical_device:CPU:0', device_type='CPU'),\n",
              " PhysicalDevice(name='/physical_device:GPU:0', device_type='GPU')]"
            ]
          },
          "metadata": {},
          "execution_count": 1
        }
      ]
    },
    {
      "cell_type": "code",
      "source": [
        "!nvidia-smi"
      ],
      "metadata": {
        "colab": {
          "base_uri": "https://localhost:8080/"
        },
        "id": "t2zLZ6PoBW8b",
        "outputId": "0426b536-66f0-4d2d-f951-4dde03ee4634"
      },
      "execution_count": 2,
      "outputs": [
        {
          "output_type": "stream",
          "name": "stdout",
          "text": [
            "Sat Sep 28 00:26:30 2024       \n",
            "+---------------------------------------------------------------------------------------+\n",
            "| NVIDIA-SMI 535.104.05             Driver Version: 535.104.05   CUDA Version: 12.2     |\n",
            "|-----------------------------------------+----------------------+----------------------+\n",
            "| GPU  Name                 Persistence-M | Bus-Id        Disp.A | Volatile Uncorr. ECC |\n",
            "| Fan  Temp   Perf          Pwr:Usage/Cap |         Memory-Usage | GPU-Util  Compute M. |\n",
            "|                                         |                      |               MIG M. |\n",
            "|=========================================+======================+======================|\n",
            "|   0  Tesla T4                       Off | 00000000:00:04.0 Off |                    0 |\n",
            "| N/A   56C    P8              12W /  70W |      3MiB / 15360MiB |      0%      Default |\n",
            "|                                         |                      |                  N/A |\n",
            "+-----------------------------------------+----------------------+----------------------+\n",
            "                                                                                         \n",
            "+---------------------------------------------------------------------------------------+\n",
            "| Processes:                                                                            |\n",
            "|  GPU   GI   CI        PID   Type   Process name                            GPU Memory |\n",
            "|        ID   ID                                                             Usage      |\n",
            "|=======================================================================================|\n",
            "|  No running processes found                                                           |\n",
            "+---------------------------------------------------------------------------------------+\n"
          ]
        }
      ]
    }
  ]
}